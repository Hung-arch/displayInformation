{
 "cells": [
  {
   "cell_type": "code",
   "execution_count": 1,
   "id": "9e0db843",
   "metadata": {},
   "outputs": [],
   "source": [
    "class ChuyenXe:\n",
    "    def __init__(self, ngay, gio, bien_so, loai_xe, loi_nhuan):\n",
    "        self.ngay = ngay\n",
    "        self.gio = gio\n",
    "        self.bien_so = bien_so\n",
    "        self.loai_xe = loai_xe\n",
    "        self.loi_nhuan = loi_nhuan\n",
    "class CongTyVanTai:\n",
    "    def __init__(self):\n",
    "        self.danh_sach_chuyen_xe = []\n",
    "\n",
    "    def tao_chuyen_xe_moi(self, ngay, gio, bien_so, loai_xe, loi_nhuan):\n",
    "        chuyen_xe = ChuyenXe(ngay.get, gio, bien_so, loai_xe, loi_nhuan)\n",
    "        self.danh_sach_chuyen_xe.append(chuyen_xe)\n",
    "        print(\"Đã thêm chuyến xe mới thành công.\")\n",
    "\n",
    "    def hien_thi_danh_sach_chuyen_xe(self):\n",
    "        for chuyen_xe in self.danh_sach_chuyen_xe:\n",
    "            print(\"Ngày: {}, Giờ: {}, Biển số xe: {}, Loại xe: {}, Lợi nhuận: {}.\".format(\n",
    "                chuyen_xe.ngay, chuyen_xe.gio, chuyen_xe.bien_so, chuyen_xe.loai_xe, chuyen_xe.loi_nhuan))\n",
    "\n",
    "    def chinh_sua_chuyen_xe(self, bien_so):\n",
    "        for chuyen_xe in self.danh_sach_chuyen_xe:\n",
    "            if chuyen_xe.bien_so == bien_so:\n",
    "                ngay = input(\"Nhập ngày mới: \")\n",
    "                gio = input(\"Nhập giờ mới: \")\n",
    "                loai_xe = input(\"Nhập loại xe mới: \")\n",
    "                loi_nhuan = float(input(\"Nhập lợi nhuận mới: \"))\n",
    "                chuyen_xe.ngay = ngay\n",
    "                chuyen_xe.gio = gio\n",
    "                chuyen_xe.loai_xe = loai_xe\n",
    "                chuyen_xe.loi_nhuan = loi_nhuan\n",
    "                print(\"Đã cập nhật thông tin chuyến xe thành công.\")\n",
    "                return\n",
    "        print(\"Không tìm thấy chuyến xe có biển số {}.\".format(bien_so))\n",
    "    def xoa_chuyen_xe(self, bien_so):\n",
    "        for i in range(len(self.danh_sach_chuyen_xe)):\n",
    "            if self.danh_sach_chuyen_xe[i].bien_so == bien_so:\n",
    "                del self.danh_sach_chuyen_xe[i]\n",
    "                print(\"Đã xóa chuyến xe thành công.\")\n",
    "                return\n",
    "        print(\"Không tìm thấy chuyến xe có biển số {}.\".format(bien_so))   \n",
    "\n",
    "    def tinh_tong_loi_nhuan(self):\n",
    "        tong_loi_nhuan = 0\n",
    "        for chuyen_xe in self.danh_sach_chuyen_xe:\n",
    "            tong_loi_nhuan += chuyen_xe.loi_nhuan\n",
    "        print(\"Tổng lợi nhuận của công ty là {}.\".format(tong_loi_nhuan)) \n",
    "              \n",
    "    def tinh_loi_nhuan_trong_khoang_thoi_gian(self, ngay_bat_dau, ngay_ket_thuc):\n",
    "        loi_nhuan_trong_khoang_thoi_gian = 0\n",
    "        for chuyen_xe in self.danh_sach_chuyen_xe:\n",
    "            if ngay_bat_dau <= chuyen_xe.ngay <= ngay_ket_thuc:\n",
    "                loi_nhuan_trong_khoang_thoi_gian += chuyen_xe.loi_nhuan\n",
    "        print(\"Tổng lợi nhuận trong khoảng thời gian từ {} đến {} là {}.\".format(ngay_bat_dau, ngay_ket_thuc, loi_nhuan_trong_khoang_thoi_gian))\n"
   ]
  },
  {
   "cell_type": "code",
   "execution_count": 2,
   "id": "b8190c28",
   "metadata": {},
   "outputs": [
    {
     "ename": "AttributeError",
     "evalue": "'str' object has no attribute 'get'",
     "output_type": "error",
     "traceback": [
      "\u001b[1;31m---------------------------------------------------------------------------\u001b[0m",
      "\u001b[1;31mAttributeError\u001b[0m                            Traceback (most recent call last)",
      "\u001b[1;32m~\\AppData\\Local\\Temp\\ipykernel_9408\\2000114471.py\u001b[0m in \u001b[0;36m<module>\u001b[1;34m\u001b[0m\n\u001b[0;32m      3\u001b[0m \u001b[1;33m\u001b[0m\u001b[0m\n\u001b[0;32m      4\u001b[0m \u001b[1;31m# Thêm một chuyến xe mới\u001b[0m\u001b[1;33m\u001b[0m\u001b[1;33m\u001b[0m\u001b[0m\n\u001b[1;32m----> 5\u001b[1;33m \u001b[0mctvt\u001b[0m\u001b[1;33m.\u001b[0m\u001b[0mtao_chuyen_xe_moi\u001b[0m\u001b[1;33m(\u001b[0m\u001b[1;34m\"2023-03-08\"\u001b[0m\u001b[1;33m,\u001b[0m \u001b[1;34m\"08:00\"\u001b[0m\u001b[1;33m,\u001b[0m \u001b[1;34m\"29A-12345\"\u001b[0m\u001b[1;33m,\u001b[0m \u001b[1;34m\"Xe tải\"\u001b[0m\u001b[1;33m,\u001b[0m \u001b[1;36m500000\u001b[0m\u001b[1;33m)\u001b[0m\u001b[1;33m\u001b[0m\u001b[1;33m\u001b[0m\u001b[0m\n\u001b[0m\u001b[0;32m      6\u001b[0m \u001b[1;33m\u001b[0m\u001b[0m\n\u001b[0;32m      7\u001b[0m \u001b[1;31m# Hiển thị danh sách các chuyến xe\u001b[0m\u001b[1;33m\u001b[0m\u001b[1;33m\u001b[0m\u001b[0m\n",
      "\u001b[1;32m~\\AppData\\Local\\Temp\\ipykernel_9408\\1213983437.py\u001b[0m in \u001b[0;36mtao_chuyen_xe_moi\u001b[1;34m(self, ngay, gio, bien_so, loai_xe, loi_nhuan)\u001b[0m\n\u001b[0;32m     11\u001b[0m \u001b[1;33m\u001b[0m\u001b[0m\n\u001b[0;32m     12\u001b[0m     \u001b[1;32mdef\u001b[0m \u001b[0mtao_chuyen_xe_moi\u001b[0m\u001b[1;33m(\u001b[0m\u001b[0mself\u001b[0m\u001b[1;33m,\u001b[0m \u001b[0mngay\u001b[0m\u001b[1;33m,\u001b[0m \u001b[0mgio\u001b[0m\u001b[1;33m,\u001b[0m \u001b[0mbien_so\u001b[0m\u001b[1;33m,\u001b[0m \u001b[0mloai_xe\u001b[0m\u001b[1;33m,\u001b[0m \u001b[0mloi_nhuan\u001b[0m\u001b[1;33m)\u001b[0m\u001b[1;33m:\u001b[0m\u001b[1;33m\u001b[0m\u001b[1;33m\u001b[0m\u001b[0m\n\u001b[1;32m---> 13\u001b[1;33m         \u001b[0mchuyen_xe\u001b[0m \u001b[1;33m=\u001b[0m \u001b[0mChuyenXe\u001b[0m\u001b[1;33m(\u001b[0m\u001b[0mngay\u001b[0m\u001b[1;33m.\u001b[0m\u001b[0mget\u001b[0m\u001b[1;33m,\u001b[0m \u001b[0mgio\u001b[0m\u001b[1;33m,\u001b[0m \u001b[0mbien_so\u001b[0m\u001b[1;33m,\u001b[0m \u001b[0mloai_xe\u001b[0m\u001b[1;33m,\u001b[0m \u001b[0mloi_nhuan\u001b[0m\u001b[1;33m)\u001b[0m\u001b[1;33m\u001b[0m\u001b[1;33m\u001b[0m\u001b[0m\n\u001b[0m\u001b[0;32m     14\u001b[0m         \u001b[0mself\u001b[0m\u001b[1;33m.\u001b[0m\u001b[0mdanh_sach_chuyen_xe\u001b[0m\u001b[1;33m.\u001b[0m\u001b[0mappend\u001b[0m\u001b[1;33m(\u001b[0m\u001b[0mchuyen_xe\u001b[0m\u001b[1;33m)\u001b[0m\u001b[1;33m\u001b[0m\u001b[1;33m\u001b[0m\u001b[0m\n\u001b[0;32m     15\u001b[0m         \u001b[0mprint\u001b[0m\u001b[1;33m(\u001b[0m\u001b[1;34m\"Đã thêm chuyến xe mới thành công.\"\u001b[0m\u001b[1;33m)\u001b[0m\u001b[1;33m\u001b[0m\u001b[1;33m\u001b[0m\u001b[0m\n",
      "\u001b[1;31mAttributeError\u001b[0m: 'str' object has no attribute 'get'"
     ]
    }
   ],
   "source": [
    "# Tạo một đối tượng CongTyVanTai\n",
    "ctvt = CongTyVanTai()\n",
    "\n",
    "# Thêm một chuyến xe mới\n",
    "ctvt.tao_chuyen_xe_moi(\"2023-03-08\", \"08:00\", \"29A-12345\", \"Xe tải\", 500000)\n",
    "\n",
    "# Hiển thị danh sách các chuyến xe\n",
    "ctvt.hien_thi_danh_sach_chuyen_xe()\n",
    "\n",
    "# Chỉnh sửa thông tin một chuyến xe\n",
    "ctvt.chinh_sua_chuyen_xe(\"29A-12345\")\n",
    "\n",
    "# Tính tổng lợi nhuận của công ty\n",
    "ctvt.tinh_tong_loi_nhuan()\n",
    "\n",
    "# Tính lợi nhuận trong khoảng thời gian từ ngày 2023-03-01 đến ngày 2023-03-31\n",
    "ctvt.tinh_loi_nhuan_trong_khoang_thoi_gian(\"2023-04-01\", \"2023-04-31\")"
   ]
  },
  {
   "cell_type": "code",
   "execution_count": 4,
   "id": "00d6809b",
   "metadata": {},
   "outputs": [],
   "source": []
  },
  {
   "cell_type": "code",
   "execution_count": null,
   "id": "954acf69",
   "metadata": {},
   "outputs": [],
   "source": []
  }
 ],
 "metadata": {
  "kernelspec": {
   "display_name": "Python 3 (ipykernel)",
   "language": "python",
   "name": "python3"
  },
  "language_info": {
   "codemirror_mode": {
    "name": "ipython",
    "version": 3
   },
   "file_extension": ".py",
   "mimetype": "text/x-python",
   "name": "python",
   "nbconvert_exporter": "python",
   "pygments_lexer": "ipython3",
   "version": "3.9.13"
  }
 },
 "nbformat": 4,
 "nbformat_minor": 5
}
