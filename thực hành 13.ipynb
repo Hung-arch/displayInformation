{
 "cells": [
  {
   "cell_type": "code",
   "execution_count": 4,
   "id": "9087a896",
   "metadata": {},
   "outputs": [
    {
     "name": "stdout",
     "output_type": "stream",
     "text": [
      "Nhập số thứ nhất :1\n",
      "Nhập số thứ hai :115\n",
      "3 Fizz\n",
      "5 Buzz\n",
      "6 Fizz\n",
      "9 Fizz\n",
      "10 Buzz\n",
      "12 Fizz\n",
      "15 Fizz\n",
      "18 Fizz\n",
      "20 Buzz\n",
      "21 Fizz\n",
      "24 Fizz\n",
      "25 Buzz\n",
      "27 Fizz\n",
      "30 Fizz\n",
      "33 Fizz\n",
      "35 Buzz\n",
      "36 Fizz\n",
      "39 Fizz\n",
      "40 Buzz\n",
      "42 Fizz\n",
      "45 Fizz\n",
      "48 Fizz\n",
      "50 Buzz\n",
      "51 Fizz\n",
      "54 Fizz\n",
      "55 Buzz\n",
      "57 Fizz\n",
      "60 Fizz\n",
      "63 Fizz\n",
      "65 Buzz\n",
      "66 Fizz\n",
      "69 Fizz\n",
      "70 Buzz\n",
      "72 Fizz\n",
      "75 Fizz\n",
      "78 Fizz\n",
      "80 Buzz\n",
      "81 Fizz\n",
      "84 Fizz\n",
      "85 Buzz\n",
      "87 Fizz\n",
      "90 Fizz\n",
      "93 Fizz\n",
      "95 Buzz\n",
      "96 Fizz\n",
      "99 Fizz\n",
      "100 Buzz\n",
      "102 Fizz\n",
      "105 Fizz\n",
      "108 Fizz\n",
      "110 Buzz\n",
      "111 Fizz\n",
      "114 Fizz\n"
     ]
    }
   ],
   "source": [
    "num1 = int(input(\"Nhập số thứ nhất :\"))\n",
    "num2 = int(input(\"Nhập số thứ hai :\"))\n",
    "if num1 >= num2:\n",
    "    print(\"số bắt đầu phải nhỏ hơn số kết thúc\")\n",
    "else:    \n",
    "    for i in range(num1,num2):\n",
    "        if i % 3 == 0:\n",
    "            print(i, \"Fizz\")\n",
    "            i+=1\n",
    "        elif i % 5 == 0:\n",
    "            print(i, \"Buzz\")\n",
    "        elif i % 3 == 0 and i % 5 == 0:\n",
    "            print(i, \"FizzBuzz\")\n",
    "            \n",
    "            \n",
    "    "
   ]
  },
  {
   "cell_type": "code",
   "execution_count": null,
   "id": "a28aa6a9",
   "metadata": {},
   "outputs": [],
   "source": []
  },
  {
   "cell_type": "code",
   "execution_count": null,
   "id": "a9425f3f",
   "metadata": {},
   "outputs": [],
   "source": []
  }
 ],
 "metadata": {
  "kernelspec": {
   "display_name": "Python 3 (ipykernel)",
   "language": "python",
   "name": "python3"
  },
  "language_info": {
   "codemirror_mode": {
    "name": "ipython",
    "version": 3
   },
   "file_extension": ".py",
   "mimetype": "text/x-python",
   "name": "python",
   "nbconvert_exporter": "python",
   "pygments_lexer": "ipython3",
   "version": "3.9.13"
  }
 },
 "nbformat": 4,
 "nbformat_minor": 5
}
