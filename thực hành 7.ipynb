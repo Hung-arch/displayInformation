{
 "cells": [
  {
   "cell_type": "code",
   "execution_count": 1,
   "id": "175f9c92",
   "metadata": {},
   "outputs": [
    {
     "name": "stdout",
     "output_type": "stream",
     "text": [
      "Nhập số tiền cần đổi: 10000\n",
      "Số tiền là:  230000000\n"
     ]
    }
   ],
   "source": [
    "So_tien = int(input(\"Nhập số tiền cần đổi: \"))\n",
    "ty_gia = 23000\n",
    "tien_doi = ty_gia * So_tien\n",
    "print('Số tiền là: ', tien_doi)"
   ]
  },
  {
   "cell_type": "code",
   "execution_count": null,
   "id": "3014ce5f",
   "metadata": {},
   "outputs": [],
   "source": []
  }
 ],
 "metadata": {
  "kernelspec": {
   "display_name": "Python 3 (ipykernel)",
   "language": "python",
   "name": "python3"
  },
  "language_info": {
   "codemirror_mode": {
    "name": "ipython",
    "version": 3
   },
   "file_extension": ".py",
   "mimetype": "text/x-python",
   "name": "python",
   "nbconvert_exporter": "python",
   "pygments_lexer": "ipython3",
   "version": "3.9.13"
  }
 },
 "nbformat": 4,
 "nbformat_minor": 5
}
