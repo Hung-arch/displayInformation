{
 "cells": [
  {
   "cell_type": "code",
   "execution_count": 3,
   "id": "885d93ff",
   "metadata": {},
   "outputs": [
    {
     "name": "stdout",
     "output_type": "stream",
     "text": [
      "Đoàn Chí Hưng\n",
      "28\n",
      "Hà Nội\n",
      "Học Python căn bản\n"
     ]
    }
   ],
   "source": [
    "Name = \"Đoàn Chí Hưng\"\n",
    "Age = \"28\"\n",
    "Address = \"Hà Nội\"\n",
    "Objective = \"Học Python căn bản\"\n",
    "print(Name)\n",
    "print(Age)\n",
    "print(Address)\n",
    "print(Objective)"
   ]
  },
  {
   "cell_type": "code",
   "execution_count": null,
   "id": "e81afaf4",
   "metadata": {},
   "outputs": [],
   "source": []
  }
 ],
 "metadata": {
  "kernelspec": {
   "display_name": "Python 3 (ipykernel)",
   "language": "python",
   "name": "python3"
  },
  "language_info": {
   "codemirror_mode": {
    "name": "ipython",
    "version": 3
   },
   "file_extension": ".py",
   "mimetype": "text/x-python",
   "name": "python",
   "nbconvert_exporter": "python",
   "pygments_lexer": "ipython3",
   "version": "3.9.13"
  }
 },
 "nbformat": 4,
 "nbformat_minor": 5
}
