{
 "cells": [
  {
   "cell_type": "code",
   "execution_count": 2,
   "id": "fefce9d2",
   "metadata": {},
   "outputs": [
    {
     "name": "stdout",
     "output_type": "stream",
     "text": [
      "Nhập số cân nặng: 45\n",
      "Nhập chiều cao: 135\n",
      "Gầy độ cấp độ III \n"
     ]
    }
   ],
   "source": [
    "can_nang = int(input(\"Nhập số cân nặng: \"))\n",
    "chieu_cao = int(input(\"Nhập chiều cao: \"))\n",
    "BMI = can_nang / chieu_cao ** 2\n",
    "if BMI < 16:\n",
    "    print(\"Gầy độ cấp độ III \")\n",
    "elif 16 <= BMI < 17:\n",
    "    print(\"Gầy cấp độ II \")\n",
    "elif 17 <= BMI < 18.5:\n",
    "    print(\"Gầy cấp độ I \" )\n",
    "elif 18.5 <= BMI < 25:\n",
    "    print(\"Bình thường\")\n",
    "elif 25 <= BMI < 30:\n",
    "    print(\"Thừa cân\")\n",
    "elif 30 <= BMI < 35:  \n",
    "    print(\"Béo phì cấp độ I\")\n",
    "elif 35 <= BMI < 40:\n",
    "    print(\"Béo phì cấp độ II\")\n",
    "else:\n",
    "    print(\"Béo phì cấp độ III \")"
   ]
  },
  {
   "cell_type": "code",
   "execution_count": null,
   "id": "2d5f62fa",
   "metadata": {},
   "outputs": [],
   "source": []
  }
 ],
 "metadata": {
  "kernelspec": {
   "display_name": "Python 3 (ipykernel)",
   "language": "python",
   "name": "python3"
  },
  "language_info": {
   "codemirror_mode": {
    "name": "ipython",
    "version": 3
   },
   "file_extension": ".py",
   "mimetype": "text/x-python",
   "name": "python",
   "nbconvert_exporter": "python",
   "pygments_lexer": "ipython3",
   "version": "3.9.13"
  }
 },
 "nbformat": 4,
 "nbformat_minor": 5
}
